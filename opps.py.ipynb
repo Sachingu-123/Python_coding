{
 "cells": [
  {
   "cell_type": "code",
   "execution_count": 1,
   "id": "bd21a73a",
   "metadata": {},
   "outputs": [
    {
     "name": "stdout",
     "output_type": "stream",
     "text": [
      "enter movie nameomg\n",
      "enter hero namepankaj\n",
      "enter heroine nameanhuska\n"
     ]
    },
    {
     "ename": "NameError",
     "evalue": "name 'Movie' is not defined",
     "output_type": "error",
     "traceback": [
      "\u001b[1;31m---------------------------------------------------------------------------\u001b[0m",
      "\u001b[1;31mNameError\u001b[0m                                 Traceback (most recent call last)",
      "Cell \u001b[1;32mIn[1], line 1\u001b[0m\n\u001b[1;32m----> 1\u001b[0m \u001b[38;5;28;01mclass\u001b[39;00m \u001b[38;5;21;01mMovie\u001b[39;00m:\n\u001b[0;32m      2\u001b[0m     \u001b[38;5;28;01mdef\u001b[39;00m \u001b[38;5;21m__init__\u001b[39m(\u001b[38;5;28mself\u001b[39m,titel,hero,heroine):\n\u001b[0;32m      3\u001b[0m         \u001b[38;5;28mself\u001b[39m\u001b[38;5;241m.\u001b[39mtitle\u001b[38;5;241m=\u001b[39mtitle\n",
      "Cell \u001b[1;32mIn[1], line 15\u001b[0m, in \u001b[0;36mMovie\u001b[1;34m()\u001b[0m\n\u001b[0;32m     13\u001b[0m hero\u001b[38;5;241m=\u001b[39m\u001b[38;5;28minput\u001b[39m(\u001b[38;5;124m'\u001b[39m\u001b[38;5;124menter hero name\u001b[39m\u001b[38;5;124m'\u001b[39m)\n\u001b[0;32m     14\u001b[0m heroine\u001b[38;5;241m=\u001b[39m\u001b[38;5;28minput\u001b[39m(\u001b[38;5;124m'\u001b[39m\u001b[38;5;124menter heroine name\u001b[39m\u001b[38;5;124m'\u001b[39m)\n\u001b[1;32m---> 15\u001b[0m m\u001b[38;5;241m=\u001b[39mMovie(title,hero,heroine)\n\u001b[0;32m     16\u001b[0m list_of_movie\u001b[38;5;241m.\u001b[39mappend(m)\n\u001b[0;32m     17\u001b[0m \u001b[38;5;28mprint\u001b[39m(\u001b[38;5;124m'\u001b[39m\u001b[38;5;124mMovie added successfully\u001b[39m\u001b[38;5;124m'\u001b[39m)\n",
      "\u001b[1;31mNameError\u001b[0m: name 'Movie' is not defined"
     ]
    }
   ],
   "source": [
    "class Movie:\n",
    "    def __init__(self,titel,hero,heroine):\n",
    "        self.title=title\n",
    "        self.hero=hero\n",
    "        self.heroine=heroine\n",
    "    def info(self):\n",
    "        print('movie name',self.title)\n",
    "        print('hero name',self.hero)\n",
    "        print('movie name',self.heroine)\n",
    "    list_of_movie=[]\n",
    "    while True:\n",
    "        title=input('enter movie name')\n",
    "        hero=input('enter hero name')\n",
    "        heroine=input('enter heroine name')\n",
    "        m=Movie(title,hero,heroine)\n",
    "        list_of_movie.append(m)\n",
    "        print('Movie added successfully')\n",
    "        option=input('do u want to add more movie[yes/no]')\n",
    "        if option.lower()=='no':\n",
    "            break\n",
    "    print('all movie info')\n",
    "    for movie in list_of_movies:\n",
    "        movie.info()\n",
    "        print()\n",
    "                     \n",
    "        "
   ]
  },
  {
   "cell_type": "code",
   "execution_count": null,
   "id": "96c4bcb2",
   "metadata": {},
   "outputs": [],
   "source": []
  },
  {
   "cell_type": "code",
   "execution_count": 4,
   "id": "6163e765",
   "metadata": {},
   "outputs": [
    {
     "name": "stdout",
     "output_type": "stream",
     "text": [
      "method\n"
     ]
    }
   ],
   "source": [
    "class Test:\n",
    "    def Test(self):\n",
    "        print(\"method\")\n",
    "t=Test()\n",
    "t.Test()"
   ]
  },
  {
   "cell_type": "code",
   "execution_count": 2,
   "id": "8f6d65a4",
   "metadata": {},
   "outputs": [
    {
     "name": "stdout",
     "output_type": "stream",
     "text": [
      "{'a': 10, 'b': 20}\n"
     ]
    }
   ],
   "source": [
    "#instance variable declaration\n",
    "#inside constructor using self\n",
    "class Test:\n",
    "    def __init__(self):\n",
    "        self.a=10\n",
    "        self.b=20\n",
    "t=Test()\n",
    "print(t.__dict__)"
   ]
  },
  {
   "cell_type": "code",
   "execution_count": 5,
   "id": "32e6e4ed",
   "metadata": {},
   "outputs": [
    {
     "name": "stdout",
     "output_type": "stream",
     "text": [
      "{'a': 10, 'b': 20, 'c': 30}\n"
     ]
    }
   ],
   "source": [
    "#inside instance method using self\n",
    "class Test:\n",
    "    def __init__(self):\n",
    "        self.a=10\n",
    "        self.b=20\n",
    "    def info(self):\n",
    "        self.c=30\n",
    "t=Test()  #a and b will be added to object\n",
    "t.info()  #c will be added to object\n",
    "print(t.__dict__)"
   ]
  },
  {
   "cell_type": "code",
   "execution_count": null,
   "id": "fecb6065",
   "metadata": {},
   "outputs": [],
   "source": [
    "#outside the clss by using object reference variable"
   ]
  },
  {
   "cell_type": "code",
   "execution_count": 13,
   "id": "55819ea7",
   "metadata": {},
   "outputs": [],
   "source": [
    "class Test:\n",
    "    def __init__(self):\n",
    "        self.a=10\n",
    "        self.b=20\n",
    "    def info(self):\n",
    "        self.c=30\n",
    "t=Test()\n",
    "t.info()\n",
    "t.d=40\n",
    "\n",
    "        "
   ]
  },
  {
   "cell_type": "code",
   "execution_count": 14,
   "id": "84f3bcff",
   "metadata": {},
   "outputs": [
    {
     "name": "stdout",
     "output_type": "stream",
     "text": [
      "{'a': 10, 'b': 20, 'c': 30}\n"
     ]
    }
   ],
   "source": [
    "print(t.__dict__)"
   ]
  },
  {
   "cell_type": "code",
   "execution_count": null,
   "id": "aa225d27",
   "metadata": {},
   "outputs": [],
   "source": [
    "#no of instance variable is varied from object to object in python."
   ]
  },
  {
   "cell_type": "code",
   "execution_count": 17,
   "id": "21dbe786",
   "metadata": {},
   "outputs": [
    {
     "name": "stdout",
     "output_type": "stream",
     "text": [
      "t2 dict: {'a': 10, 'b': 20, 'c': 30, 'd': 40}\n",
      "t3 dict: {'a': 10, 'b': 20, 'c': 30, 'd': 40}\n"
     ]
    }
   ],
   "source": [
    "class Test:\n",
    "    def __init__(self):\n",
    "        self.a=10\n",
    "        self.b=20\n",
    "    def m1(self):\n",
    "        self.c=30\n",
    "t2=Test()\n",
    "t2.m1()\n",
    "t2.d=40\n",
    "t3=Test()\n",
    "print('t2 dict:',t2.__dict__)\n",
    "print('t3 dict:',t3.__dict__)"
   ]
  },
  {
   "cell_type": "code",
   "execution_count": 20,
   "id": "0890fcf3",
   "metadata": {},
   "outputs": [
    {
     "name": "stdout",
     "output_type": "stream",
     "text": [
      "10\n",
      "20\n",
      "10\n",
      "20\n"
     ]
    }
   ],
   "source": [
    "#How we can access instance varibale \n",
    "#inside python class by using self variable(ofcourse inside constructor nad instance method)\n",
    "#outside pyhton by suing obj reference variable\n",
    "class Test:\n",
    "    def __init__(self):\n",
    "        self.a=10\n",
    "        self.b=20\n",
    "    def display(self):\n",
    "        print(t.a)\n",
    "        print(t.b)\n",
    "t=Test()\n",
    "t.display()\n",
    "print(t.a)\n",
    "print(t.b)"
   ]
  },
  {
   "cell_type": "code",
   "execution_count": 26,
   "id": "d5d5d0f1",
   "metadata": {},
   "outputs": [
    {
     "name": "stdout",
     "output_type": "stream",
     "text": [
      "{'a': 10, 'b': 20, 'c': 30, 'd': 40, 'e': 50}\n",
      "{'d': 40, 'e': 50}\n"
     ]
    }
   ],
   "source": [
    "#how to delete instance variable\n",
    "#By using del keyword and self.variable name within the class -->del self.var\n",
    "#Outsid the class by using object rverence variable ---> del objRefence.variable\n",
    "#within a single line we can delete mutliple instance var by --->del objRef.var,objRef.var\n",
    "class Main:\n",
    "    def __init__(self):\n",
    "        self.a=10\n",
    "        self.b=20\n",
    "        self.c=30\n",
    "        self.d=40\n",
    "        self.e=50\n",
    "    def m1(self):\n",
    "        del self.c\n",
    "        del self.a,self.b\n",
    "t=Main()\n",
    "print(t.__dict__)\n",
    "t.m1()\n",
    "print(t.__dict__)"
   ]
  },
  {
   "cell_type": "code",
   "execution_count": 34,
   "id": "afa5a81a",
   "metadata": {},
   "outputs": [
    {
     "name": "stdout",
     "output_type": "stream",
     "text": [
      "t1 888 999\n",
      "t2 10 20\n"
     ]
    }
   ],
   "source": [
    "#if we perform any changes to th value of instance variable for one obj the the changes \n",
    "#wont be reflected to other obj because for every obj a separate copy of instance var is created\n",
    "class Test:\n",
    "    def __init__(self):\n",
    "        self.a=10\n",
    "        self.b=20\n",
    "t1=Test()\n",
    "t1.a=888\n",
    "t1.b=999\n",
    "t2=Test()\n",
    "print('t1',t1.a,t1.b)\n",
    "print('t2',t2.a,t2.b)"
   ]
  },
  {
   "cell_type": "code",
   "execution_count": 35,
   "id": "aff799ba",
   "metadata": {},
   "outputs": [
    {
     "ename": "SyntaxError",
     "evalue": "invalid syntax (3277417328.py, line 1)",
     "output_type": "error",
     "traceback": [
      "\u001b[1;36m  Cell \u001b[1;32mIn[35], line 1\u001b[1;36m\u001b[0m\n\u001b[1;33m    git init\u001b[0m\n\u001b[1;37m        ^\u001b[0m\n\u001b[1;31mSyntaxError\u001b[0m\u001b[1;31m:\u001b[0m invalid syntax\n"
     ]
    }
   ],
   "source": [
    "\n"
   ]
  },
  {
   "cell_type": "code",
   "execution_count": null,
   "id": "468afe0f",
   "metadata": {},
   "outputs": [],
   "source": []
  }
 ],
 "metadata": {
  "kernelspec": {
   "display_name": "Python 3 (ipykernel)",
   "language": "python",
   "name": "python3"
  },
  "language_info": {
   "codemirror_mode": {
    "name": "ipython",
    "version": 3
   },
   "file_extension": ".py",
   "mimetype": "text/x-python",
   "name": "python",
   "nbconvert_exporter": "python",
   "pygments_lexer": "ipython3",
   "version": "3.11.3"
  }
 },
 "nbformat": 4,
 "nbformat_minor": 5
}
